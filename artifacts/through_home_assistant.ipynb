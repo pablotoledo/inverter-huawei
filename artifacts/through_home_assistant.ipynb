{
 "cells": [
  {
   "cell_type": "markdown",
   "metadata": {},
   "source": [
    "# Huawei Solar Data Reader via Home Assistant API\n",
    "\n",
    "This notebook will guide you through the process of reading data from your Huawei Solar inverter and power meter through the Home Assistant API.\n",
    "\n",
    "## 1. Environment Setup\n",
    "\n",
    "First, let's create a virtual environment and install the required packages:"
   ]
  },
  {
   "cell_type": "code",
   "execution_count": null,
   "metadata": {},
   "outputs": [],
   "source": [
    "!python -m venv .venv\n",
    "!source .venv/bin/activate  # On Windows use: .venv\\Scripts\\activate\n",
    "!pip install aiohttp"
   ]
  },
  {
   "cell_type": "markdown",
   "metadata": {},
   "source": [
    "## 2. Import Required Libraries\n",
    "\n",
    "Let's import the libraries we'll need:"
   ]
  },
  {
   "cell_type": "code",
   "execution_count": 2,
   "metadata": {},
   "outputs": [],
   "source": [
    "import asyncio\n",
    "import aiohttp\n",
    "import logging\n",
    "from datetime import datetime\n",
    "\n",
    "# Configure logging\n",
    "logging.basicConfig(\n",
    "    level=logging.INFO,\n",
    "    format='%(asctime)s - %(levelname)s - %(message)s'\n",
    ")\n",
    "\n",
    "logger = logging.getLogger(\"ha_solar_reader\")"
   ]
  },
  {
   "cell_type": "markdown",
   "metadata": {},
   "source": [
    "## 3. Define Configuration\n",
    "\n",
    "Set your Home Assistant configuration. Replace with your actual values:"
   ]
  },
  {
   "cell_type": "code",
   "execution_count": null,
   "metadata": {},
   "outputs": [],
   "source": [
    "# Home Assistant Configuration\n",
    "HA_URL = \"http://your-ha-url:8123\"    # Example: \"http://192.168.1.100:8123\"\n",
    "HA_TOKEN = \"your-long-lived-token\"     # Get this from your Home Assistant profile"
   ]
  },
  {
   "cell_type": "markdown",
   "metadata": {},
   "source": [
    "## 4. Create the HASolarReader Class\n",
    "\n",
    "This class will handle all the communication with Home Assistant:"
   ]
  },
  {
   "cell_type": "code",
   "execution_count": 11,
   "metadata": {},
   "outputs": [
    {
     "name": "stdout",
     "output_type": "stream",
     "text": [
      "\n",
      "===== Huawei Solar System Data =====\n",
      "Reading time: 2025-01-09 20:13:20\n",
      "\n",
      "=== INVERTER ===\n",
      "Inverter Device status: Standby: no irradiation\n",
      "Inverter Input power: 0 W\n",
      "Inverter Active power: 0 W\n",
      "Inverter Day active power peak: 4400 W\n",
      "Inverter Efficiency: 0.0 %\n",
      "\n",
      "=== POWER METER ===\n",
      "Power meter Active power: -553 W\n",
      "Power meter Consumption: 3963.42 kWh\n",
      "sensor Cost: 4.07250000000012 EUR\n",
      "sensor Compensation: 0.937600000000021 EUR\n"
     ]
    }
   ],
   "source": [
    "class HASolarReader:\n",
    "    def __init__(self, ha_url, token):\n",
    "        self.ha_url = ha_url.rstrip('/')\n",
    "        self.headers = {\n",
    "            \"Authorization\": f\"Bearer {token}\",\n",
    "            \"Content-Type\": \"application/json\",\n",
    "        }\n",
    "        \n",
    "        # Inverter entities - adjusted based on your available entities\n",
    "        self.inverter_entities = [\n",
    "            \"sensor.inverter_device_status\",          # Device status\n",
    "            \"sensor.inverter_input_power\",            # Input power\n",
    "            \"sensor.inverter_active_power\",           # Active power\n",
    "            \"sensor.inverter_day_active_power_peak\",  # Daily power peak\n",
    "            \"sensor.inverter_efficiency\"              # Efficiency\n",
    "        ]\n",
    "        \n",
    "        # Power meter entities - adjusted based on your available entities\n",
    "        self.power_meter_entities = [\n",
    "            \"sensor.power_meter_active_power\",            # Current active power\n",
    "            \"sensor.power_meter_consumption\",             # Total consumption\n",
    "            \"sensor.power_meter_consumption_cost\",        # Consumption cost\n",
    "            \"sensor.power_meter_exported_compensation\"    # Export compensation\n",
    "        ]\n",
    "\n",
    "    async def get_entity_state(self, entity_id):\n",
    "        \"\"\"Get the state of an entity\"\"\"\n",
    "        async with aiohttp.ClientSession(headers=self.headers) as session:\n",
    "            url = f\"{self.ha_url}/api/states/{entity_id}\"\n",
    "            try:\n",
    "                async with session.get(url) as response:\n",
    "                    if response.status == 200:\n",
    "                        data = await response.json()\n",
    "                        return {\n",
    "                            'state': data['state'],\n",
    "                            'unit': data['attributes'].get('unit_of_measurement', ''),\n",
    "                            'friendly_name': data['attributes'].get('friendly_name', entity_id)\n",
    "                        }\n",
    "                    else:\n",
    "                        logger.error(f\"Error getting {entity_id}: {response.status}\")\n",
    "                        return None\n",
    "            except Exception as e:\n",
    "                logger.error(f\"Error in request for {entity_id}: {str(e)}\")\n",
    "                return None\n",
    "\n",
    "    async def get_all_states(self):\n",
    "        \"\"\"Get states for all configured entities\"\"\"\n",
    "        # Get inverter data\n",
    "        inverter_tasks = [self.get_entity_state(entity) for entity in self.inverter_entities]\n",
    "        inverter_results = await asyncio.gather(*inverter_tasks)\n",
    "        inverter_data = dict(zip(self.inverter_entities, inverter_results))\n",
    "        \n",
    "        # Get power meter data\n",
    "        meter_tasks = [self.get_entity_state(entity) for entity in self.power_meter_entities]\n",
    "        meter_results = await asyncio.gather(*meter_tasks)\n",
    "        meter_data = dict(zip(self.power_meter_entities, meter_results))\n",
    "        \n",
    "        return inverter_data, meter_data\n",
    "\n",
    "    def print_results(self, inverter_data, meter_data):\n",
    "        \"\"\"Print formatted results\"\"\"\n",
    "        print(\"\\n===== Huawei Solar System Data =====\")\n",
    "        print(f\"Reading time: {datetime.now().strftime('%Y-%m-%d %H:%M:%S')}\")\n",
    "        \n",
    "        print(\"\\n=== INVERTER ===\")\n",
    "        for entity_id, data in inverter_data.items():\n",
    "            if data:\n",
    "                unit = f\" {data['unit']}\" if data['unit'] else \"\"\n",
    "                print(f\"{data['friendly_name']}: {data['state']}{unit}\")\n",
    "        \n",
    "        print(\"\\n=== POWER METER ===\")\n",
    "        for entity_id, data in meter_data.items():\n",
    "            if data:\n",
    "                unit = f\" {data['unit']}\" if data['unit'] else \"\"\n",
    "                print(f\"{data['friendly_name']}: {data['state']}{unit}\")\n",
    "\n",
    "async def read_solar_data():\n",
    "    reader = HASolarReader(HA_URL, HA_TOKEN)\n",
    "    inverter_data, meter_data = await reader.get_all_states()\n",
    "    reader.print_results(inverter_data, meter_data)\n",
    "\n",
    "# Test the reader\n",
    "await read_solar_data()"
   ]
  },
  {
   "cell_type": "markdown",
   "metadata": {},
   "source": [
    "## 5. Test the Connection\n",
    "\n",
    "Let's first test if we can connect to Home Assistant:"
   ]
  },
  {
   "cell_type": "code",
   "execution_count": 12,
   "metadata": {},
   "outputs": [
    {
     "name": "stdout",
     "output_type": "stream",
     "text": [
      "✅ Successfully connected to Home Assistant!\n"
     ]
    },
    {
     "data": {
      "text/plain": [
       "True"
      ]
     },
     "execution_count": 12,
     "metadata": {},
     "output_type": "execute_result"
    }
   ],
   "source": [
    "async def test_connection():\n",
    "    \"\"\"Test connection to Home Assistant\"\"\"\n",
    "    async with aiohttp.ClientSession(headers={\"Authorization\": f\"Bearer {HA_TOKEN}\"}) as session:\n",
    "        url = f\"{HA_URL}/api/\"  # Base API endpoint\n",
    "        try:\n",
    "            async with session.get(url) as response:\n",
    "                if response.status == 200:\n",
    "                    print(\"✅ Successfully connected to Home Assistant!\")\n",
    "                    return True\n",
    "                else:\n",
    "                    print(f\"❌ Connection failed with status: {response.status}\")\n",
    "                    return False\n",
    "        except Exception as e:\n",
    "            print(f\"❌ Connection error: {str(e)}\")\n",
    "            return False\n",
    "\n",
    "# Run the test\n",
    "await test_connection()"
   ]
  },
  {
   "cell_type": "markdown",
   "metadata": {},
   "source": [
    "## 6. Read Solar Data\n",
    "\n",
    "Now let's read the actual data from your solar system:"
   ]
  },
  {
   "cell_type": "code",
   "execution_count": 13,
   "metadata": {},
   "outputs": [
    {
     "name": "stdout",
     "output_type": "stream",
     "text": [
      "\n",
      "===== Huawei Solar System Data =====\n",
      "Reading time: 2025-01-09 20:13:30\n",
      "\n",
      "=== INVERTER ===\n",
      "Inverter Device status: Standby: no irradiation\n",
      "Inverter Input power: 0 W\n",
      "Inverter Active power: 0 W\n",
      "Inverter Day active power peak: 4400 W\n",
      "Inverter Efficiency: 0.0 %\n",
      "\n",
      "=== POWER METER ===\n",
      "Power meter Active power: -570 W\n",
      "Power meter Consumption: 3963.43 kWh\n",
      "sensor Cost: 4.07400000000008 EUR\n",
      "sensor Compensation: 0.937600000000021 EUR\n"
     ]
    }
   ],
   "source": [
    "async def read_solar_data():\n",
    "    reader = HASolarReader(HA_URL, HA_TOKEN)\n",
    "    inverter_data, meter_data = await reader.get_all_states()\n",
    "    reader.print_results(inverter_data, meter_data)\n",
    "\n",
    "# Read the data\n",
    "await read_solar_data()"
   ]
  },
  {
   "cell_type": "markdown",
   "metadata": {},
   "source": [
    "## 7. Set up Periodic Reading (Optional)\n",
    "\n",
    "If you want to read data periodically:"
   ]
  },
  {
   "cell_type": "code",
   "execution_count": null,
   "metadata": {},
   "outputs": [],
   "source": [
    "async def periodic_reading(interval_seconds=30):\n",
    "    reader = HASolarReader(HA_URL, HA_TOKEN)\n",
    "    while True:\n",
    "        try:\n",
    "            inverter_data, meter_data = await reader.get_all_states()\n",
    "            reader.print_results(inverter_data, meter_data)\n",
    "            await asyncio.sleep(interval_seconds)\n",
    "        except KeyboardInterrupt:\n",
    "            print(\"\\nStopping periodic reading...\")\n",
    "            break\n",
    "        except Exception as e:\n",
    "            print(f\"Error: {str(e)}\")\n",
    "            await asyncio.sleep(5)\n",
    "\n",
    "# Uncomment to start periodic reading:\n",
    "# await periodic_reading(30)  # Read every 30 seconds"
   ]
  },
  {
   "cell_type": "code",
   "execution_count": 7,
   "metadata": {},
   "outputs": [
    {
     "name": "stdout",
     "output_type": "stream",
     "text": [
      "\n",
      "Found Huawei Solar related entities:\n",
      "=====================================\n",
      "ID: sensor.power_meter_consumption_cost\n",
      "State: 4.07100000000008\n",
      "Unit: EUR\n",
      "-------------------------------------\n",
      "ID: sensor.power_meter_exported_compensation\n",
      "State: 0.937600000000021\n",
      "Unit: EUR\n",
      "-------------------------------------\n",
      "ID: sensor.inverter_input_power\n",
      "State: 0\n",
      "Unit: W\n",
      "-------------------------------------\n",
      "ID: sensor.inverter_day_active_power_peak\n",
      "State: 4400\n",
      "Unit: W\n",
      "-------------------------------------\n",
      "ID: sensor.inverter_active_power\n",
      "State: 0\n",
      "Unit: W\n",
      "-------------------------------------\n",
      "ID: sensor.inverter_efficiency\n",
      "State: 0.0\n",
      "Unit: %\n",
      "-------------------------------------\n",
      "ID: sensor.inverter_device_status\n",
      "State: Standby: no irradiation\n",
      "Unit: none\n",
      "-------------------------------------\n",
      "ID: sensor.inverter_startup_time\n",
      "State: 2025-01-09T07:50:12+00:00\n",
      "Unit: none\n",
      "-------------------------------------\n",
      "ID: sensor.inverter_shutdown_time\n",
      "State: 2025-01-09T17:23:09+00:00\n",
      "Unit: none\n",
      "-------------------------------------\n",
      "ID: sensor.inverter_total_yield\n",
      "State: 9428.6\n",
      "Unit: kWh\n",
      "-------------------------------------\n",
      "ID: sensor.inverter_total_dc_input_energy\n",
      "State: 9689.66\n",
      "Unit: kWh\n",
      "-------------------------------------\n",
      "ID: sensor.inverter_hourly_yield\n",
      "State: 0.0\n",
      "Unit: kWh\n",
      "-------------------------------------\n",
      "ID: sensor.inverter_daily_yield\n",
      "State: 8.78\n",
      "Unit: kWh\n",
      "-------------------------------------\n",
      "ID: sensor.inverter_inverter_state\n",
      "State: Standby\n",
      "Unit: none\n",
      "-------------------------------------\n",
      "ID: sensor.inverter_locking_status\n",
      "State: Locked\n",
      "Unit: none\n",
      "-------------------------------------\n",
      "ID: sensor.inverter_pv_connection_status\n",
      "State: PV disconnected\n",
      "Unit: none\n",
      "-------------------------------------\n",
      "ID: sensor.inverter_dsp_data_collection\n",
      "State: No DSP data collection\n",
      "Unit: none\n",
      "-------------------------------------\n",
      "ID: sensor.inverter_off_grid_status\n",
      "State: On-grid\n",
      "Unit: none\n",
      "-------------------------------------\n",
      "ID: sensor.inverter_off_grid_switch\n",
      "State: Off-grid switch disabled\n",
      "Unit: none\n",
      "-------------------------------------\n",
      "ID: sensor.inverter_alarms\n",
      "State: None\n",
      "Unit: none\n",
      "-------------------------------------\n",
      "ID: sensor.inverter_pv_1_voltage\n",
      "State: 0.0\n",
      "Unit: V\n",
      "-------------------------------------\n",
      "ID: sensor.inverter_pv_1_current\n",
      "State: 0.0\n",
      "Unit: A\n",
      "-------------------------------------\n",
      "ID: sensor.inverter_pv_2_voltage\n",
      "State: 0.0\n",
      "Unit: V\n",
      "-------------------------------------\n",
      "ID: sensor.inverter_pv_2_current\n",
      "State: 0.0\n",
      "Unit: A\n",
      "-------------------------------------\n",
      "ID: sensor.power_meter_active_power\n",
      "State: -557\n",
      "Unit: W\n",
      "-------------------------------------\n",
      "ID: sensor.power_meter_power_factor\n",
      "State: -0.862\n",
      "Unit: none\n",
      "-------------------------------------\n",
      "ID: sensor.power_meter_exported\n",
      "State: 5550.72\n",
      "Unit: kWh\n",
      "-------------------------------------\n",
      "ID: sensor.power_meter_consumption\n",
      "State: 3963.41\n",
      "Unit: kWh\n",
      "-------------------------------------\n"
     ]
    }
   ],
   "source": [
    "async def list_solar_entities():\n",
    "    \"\"\"List all Huawei Solar related entities in Home Assistant\"\"\"\n",
    "    async with aiohttp.ClientSession(headers={\"Authorization\": f\"Bearer {HA_TOKEN}\"}) as session:\n",
    "        url = f\"{HA_URL}/api/states\"\n",
    "        try:\n",
    "            async with session.get(url) as response:\n",
    "                if response.status == 200:\n",
    "                    entities = await response.json()\n",
    "                    print(\"\\nFound Huawei Solar related entities:\")\n",
    "                    print(\"=====================================\")\n",
    "                    for entity in entities:\n",
    "                        entity_id = entity['entity_id']\n",
    "                        # Filter for relevant entities\n",
    "                        if any(x in entity_id for x in ['inverter', 'power_meter', 'grid']):\n",
    "                            print(f\"ID: {entity_id}\")\n",
    "                            print(f\"State: {entity['state']}\")\n",
    "                            print(f\"Unit: {entity['attributes'].get('unit_of_measurement', 'none')}\")\n",
    "                            print(\"-------------------------------------\")\n",
    "                else:\n",
    "                    print(f\"Error: Received status code {response.status}\")\n",
    "        except Exception as e:\n",
    "            print(f\"Error: {str(e)}\")\n",
    "\n",
    "# Run the check\n",
    "await list_solar_entities()"
   ]
  }
 ],
 "metadata": {
  "kernelspec": {
   "display_name": ".venv",
   "language": "python",
   "name": "python3"
  },
  "language_info": {
   "codemirror_mode": {
    "name": "ipython",
    "version": 3
   },
   "file_extension": ".py",
   "mimetype": "text/x-python",
   "name": "python",
   "nbconvert_exporter": "python",
   "pygments_lexer": "ipython3",
   "version": "3.9.6"
  }
 },
 "nbformat": 4,
 "nbformat_minor": 4
}
